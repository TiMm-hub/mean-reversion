{
 "cells": [
  {
   "cell_type": "code",
   "execution_count": 1,
   "id": "d29a6001-e779-4854-ab35-c25ace85d16e",
   "metadata": {},
   "outputs": [],
   "source": [
    "import pandas as pd\n",
    "import numpy as np"
   ]
  },
  {
   "cell_type": "code",
   "execution_count": 2,
   "id": "7d530bec-2447-4c35-8f1b-8f5308d01f3e",
   "metadata": {},
   "outputs": [],
   "source": [
    "data=pd.read_csv('JenniferPriceData.csv')\n",
    "data=data.iloc[:,1:]"
   ]
  },
  {
   "cell_type": "code",
   "execution_count": 3,
   "id": "7bcf26c4-d6ba-4489-9abb-72d755efb418",
   "metadata": {
    "tags": []
   },
   "outputs": [
    {
     "data": {
      "text/html": [
       "<div>\n",
       "<style scoped>\n",
       "    .dataframe tbody tr th:only-of-type {\n",
       "        vertical-align: middle;\n",
       "    }\n",
       "\n",
       "    .dataframe tbody tr th {\n",
       "        vertical-align: top;\n",
       "    }\n",
       "\n",
       "    .dataframe thead th {\n",
       "        text-align: right;\n",
       "    }\n",
       "</style>\n",
       "<table border=\"1\" class=\"dataframe\">\n",
       "  <thead>\n",
       "    <tr style=\"text-align: right;\">\n",
       "      <th></th>\n",
       "      <th>Name</th>\n",
       "      <th>Date</th>\n",
       "      <th>Price</th>\n",
       "      <th>DailyChange</th>\n",
       "      <th>WeekChange</th>\n",
       "      <th>MarketCap</th>\n",
       "      <th>DailyVolume</th>\n",
       "      <th>lag1_DailyChange</th>\n",
       "      <th>lag2_DailyChange</th>\n",
       "      <th>lag3_DailyChange</th>\n",
       "      <th>lag1_WeekChange</th>\n",
       "      <th>lag1_DailyRank</th>\n",
       "      <th>lag2_DailyRank</th>\n",
       "      <th>lag3_DailyRank</th>\n",
       "      <th>lag1_WeekRank</th>\n",
       "      <th>lagN_Price</th>\n",
       "      <th>response</th>\n",
       "    </tr>\n",
       "  </thead>\n",
       "  <tbody>\n",
       "    <tr>\n",
       "      <th>0</th>\n",
       "      <td>Ethereum</td>\n",
       "      <td>2017-01-04</td>\n",
       "      <td>11.25</td>\n",
       "      <td>15.40</td>\n",
       "      <td>47.31</td>\n",
       "      <td>985511573.0</td>\n",
       "      <td>41051196.0</td>\n",
       "      <td>16.33</td>\n",
       "      <td>3.03</td>\n",
       "      <td>1.78</td>\n",
       "      <td>35.83</td>\n",
       "      <td>0.060606</td>\n",
       "      <td>0.454545</td>\n",
       "      <td>0.393939</td>\n",
       "      <td>0.121212</td>\n",
       "      <td>10.25</td>\n",
       "      <td>-8.89</td>\n",
       "    </tr>\n",
       "    <tr>\n",
       "      <th>1</th>\n",
       "      <td>Ethereum</td>\n",
       "      <td>2017-01-05</td>\n",
       "      <td>10.25</td>\n",
       "      <td>-9.17</td>\n",
       "      <td>22.95</td>\n",
       "      <td>898495324.0</td>\n",
       "      <td>41557420.0</td>\n",
       "      <td>15.40</td>\n",
       "      <td>16.33</td>\n",
       "      <td>3.03</td>\n",
       "      <td>47.31</td>\n",
       "      <td>0.303030</td>\n",
       "      <td>0.060606</td>\n",
       "      <td>0.454545</td>\n",
       "      <td>0.181818</td>\n",
       "      <td>10.25</td>\n",
       "      <td>0.00</td>\n",
       "    </tr>\n",
       "    <tr>\n",
       "      <th>2</th>\n",
       "      <td>Ethereum</td>\n",
       "      <td>2017-01-06</td>\n",
       "      <td>10.25</td>\n",
       "      <td>-1.08</td>\n",
       "      <td>26.05</td>\n",
       "      <td>898841639.0</td>\n",
       "      <td>29471794.0</td>\n",
       "      <td>-9.17</td>\n",
       "      <td>15.40</td>\n",
       "      <td>16.33</td>\n",
       "      <td>22.95</td>\n",
       "      <td>0.545455</td>\n",
       "      <td>0.303030</td>\n",
       "      <td>0.060606</td>\n",
       "      <td>0.212121</td>\n",
       "      <td>9.87</td>\n",
       "      <td>-3.71</td>\n",
       "    </tr>\n",
       "    <tr>\n",
       "      <th>3</th>\n",
       "      <td>Ethereum</td>\n",
       "      <td>2017-01-07</td>\n",
       "      <td>9.87</td>\n",
       "      <td>-3.92</td>\n",
       "      <td>21.76</td>\n",
       "      <td>865194304.0</td>\n",
       "      <td>23153574.0</td>\n",
       "      <td>-1.08</td>\n",
       "      <td>-9.17</td>\n",
       "      <td>15.40</td>\n",
       "      <td>26.05</td>\n",
       "      <td>0.303030</td>\n",
       "      <td>0.545455</td>\n",
       "      <td>0.303030</td>\n",
       "      <td>0.121212</td>\n",
       "      <td>10.29</td>\n",
       "      <td>4.26</td>\n",
       "    </tr>\n",
       "    <tr>\n",
       "      <th>4</th>\n",
       "      <td>Ethereum</td>\n",
       "      <td>2017-01-08</td>\n",
       "      <td>10.29</td>\n",
       "      <td>4.41</td>\n",
       "      <td>26.16</td>\n",
       "      <td>902575822.0</td>\n",
       "      <td>16676626.0</td>\n",
       "      <td>-3.92</td>\n",
       "      <td>-1.08</td>\n",
       "      <td>-9.17</td>\n",
       "      <td>21.76</td>\n",
       "      <td>0.878788</td>\n",
       "      <td>0.303030</td>\n",
       "      <td>0.545455</td>\n",
       "      <td>0.181818</td>\n",
       "      <td>10.33</td>\n",
       "      <td>0.39</td>\n",
       "    </tr>\n",
       "  </tbody>\n",
       "</table>\n",
       "</div>"
      ],
      "text/plain": [
       "       Name        Date  Price  DailyChange  WeekChange    MarketCap  \\\n",
       "0  Ethereum  2017-01-04  11.25        15.40       47.31  985511573.0   \n",
       "1  Ethereum  2017-01-05  10.25        -9.17       22.95  898495324.0   \n",
       "2  Ethereum  2017-01-06  10.25        -1.08       26.05  898841639.0   \n",
       "3  Ethereum  2017-01-07   9.87        -3.92       21.76  865194304.0   \n",
       "4  Ethereum  2017-01-08  10.29         4.41       26.16  902575822.0   \n",
       "\n",
       "   DailyVolume  lag1_DailyChange  lag2_DailyChange  lag3_DailyChange  \\\n",
       "0   41051196.0             16.33              3.03              1.78   \n",
       "1   41557420.0             15.40             16.33              3.03   \n",
       "2   29471794.0             -9.17             15.40             16.33   \n",
       "3   23153574.0             -1.08             -9.17             15.40   \n",
       "4   16676626.0             -3.92             -1.08             -9.17   \n",
       "\n",
       "   lag1_WeekChange  lag1_DailyRank  lag2_DailyRank  lag3_DailyRank  \\\n",
       "0            35.83        0.060606        0.454545        0.393939   \n",
       "1            47.31        0.303030        0.060606        0.454545   \n",
       "2            22.95        0.545455        0.303030        0.060606   \n",
       "3            26.05        0.303030        0.545455        0.303030   \n",
       "4            21.76        0.878788        0.303030        0.545455   \n",
       "\n",
       "   lag1_WeekRank  lagN_Price  response  \n",
       "0       0.121212       10.25     -8.89  \n",
       "1       0.181818       10.25      0.00  \n",
       "2       0.212121        9.87     -3.71  \n",
       "3       0.121212       10.29      4.26  \n",
       "4       0.181818       10.33      0.39  "
      ]
     },
     "execution_count": 3,
     "metadata": {},
     "output_type": "execute_result"
    }
   ],
   "source": [
    "data.head(5)"
   ]
  },
  {
   "cell_type": "markdown",
   "id": "c5261bcd-d9e2-4590-83c1-8670b9b6cf65",
   "metadata": {},
   "source": [
    "## Start from data preprocessing"
   ]
  },
  {
   "cell_type": "code",
   "execution_count": 4,
   "id": "54d1e36f-8a7c-47a2-9b3f-fdb028cfdf3e",
   "metadata": {},
   "outputs": [],
   "source": [
    "# three matrix: return , price and sort, also the market capitalization matrix"
   ]
  },
  {
   "cell_type": "code",
   "execution_count": 5,
   "id": "68207104-68f3-4f46-8cb3-68294e36368f",
   "metadata": {},
   "outputs": [],
   "source": [
    "name,length=np.unique(data['Name'].values,return_counts=True)\n",
    "max_length = max(length)"
   ]
  },
  {
   "cell_type": "code",
   "execution_count": 6,
   "id": "7dab3b02-26b8-426d-a538-698296278a20",
   "metadata": {
    "tags": []
   },
   "outputs": [
    {
     "name": "stdout",
     "output_type": "stream",
     "text": [
      "CPU times: user 19.2 s, sys: 16.7 ms, total: 19.2 s\n",
      "Wall time: 19.2 s\n"
     ]
    }
   ],
   "source": [
    "%%time\n",
    "price =[]\n",
    "return_arr = []\n",
    "mar_cap = []\n",
    "for i in range(len(name)):\n",
    "    df=data[data['Name']==name[i]]\n",
    "    p=df['Price'].values\n",
    "    r=(df['Price'].diff()/df['Price']).values\n",
    "    cap=df['MarketCap'].values\n",
    "    emp = np.empty((max_length-length[i],))\n",
    "    emp[:] = np.NaN\n",
    "    price.append(np.concatenate((emp,p)))\n",
    "    return_arr.append(np.concatenate((emp,r)))\n",
    "    mar_cap.append(np.concatenate((emp,cap)))"
   ]
  },
  {
   "cell_type": "code",
   "execution_count": 7,
   "id": "fd1e9100-7903-436b-a2de-d0ca5f00cb95",
   "metadata": {
    "collapsed": true,
    "jupyter": {
     "outputs_hidden": true
    },
    "tags": []
   },
   "outputs": [
    {
     "data": {
      "text/html": [
       "<div>\n",
       "<style scoped>\n",
       "    .dataframe tbody tr th:only-of-type {\n",
       "        vertical-align: middle;\n",
       "    }\n",
       "\n",
       "    .dataframe tbody tr th {\n",
       "        vertical-align: top;\n",
       "    }\n",
       "\n",
       "    .dataframe thead th {\n",
       "        text-align: right;\n",
       "    }\n",
       "</style>\n",
       "<table border=\"1\" class=\"dataframe\">\n",
       "  <thead>\n",
       "    <tr style=\"text-align: right;\">\n",
       "      <th></th>\n",
       "      <th>0</th>\n",
       "      <th>1</th>\n",
       "      <th>2</th>\n",
       "      <th>3</th>\n",
       "      <th>4</th>\n",
       "      <th>5</th>\n",
       "      <th>6</th>\n",
       "      <th>7</th>\n",
       "      <th>8</th>\n",
       "      <th>9</th>\n",
       "      <th>...</th>\n",
       "      <th>1508</th>\n",
       "      <th>1509</th>\n",
       "      <th>1510</th>\n",
       "      <th>1511</th>\n",
       "      <th>1512</th>\n",
       "      <th>1513</th>\n",
       "      <th>1514</th>\n",
       "      <th>1515</th>\n",
       "      <th>1516</th>\n",
       "      <th>1517</th>\n",
       "    </tr>\n",
       "  </thead>\n",
       "  <tbody>\n",
       "    <tr>\n",
       "      <th>0x</th>\n",
       "      <td>NaN</td>\n",
       "      <td>NaN</td>\n",
       "      <td>NaN</td>\n",
       "      <td>NaN</td>\n",
       "      <td>NaN</td>\n",
       "      <td>NaN</td>\n",
       "      <td>NaN</td>\n",
       "      <td>NaN</td>\n",
       "      <td>NaN</td>\n",
       "      <td>NaN</td>\n",
       "      <td>...</td>\n",
       "      <td>NaN</td>\n",
       "      <td>NaN</td>\n",
       "      <td>NaN</td>\n",
       "      <td>NaN</td>\n",
       "      <td>NaN</td>\n",
       "      <td>NaN</td>\n",
       "      <td>NaN</td>\n",
       "      <td>NaN</td>\n",
       "      <td>NaN</td>\n",
       "      <td>NaN</td>\n",
       "    </tr>\n",
       "    <tr>\n",
       "      <th>0xcert</th>\n",
       "      <td>NaN</td>\n",
       "      <td>NaN</td>\n",
       "      <td>NaN</td>\n",
       "      <td>NaN</td>\n",
       "      <td>NaN</td>\n",
       "      <td>NaN</td>\n",
       "      <td>NaN</td>\n",
       "      <td>NaN</td>\n",
       "      <td>NaN</td>\n",
       "      <td>NaN</td>\n",
       "      <td>...</td>\n",
       "      <td>NaN</td>\n",
       "      <td>NaN</td>\n",
       "      <td>NaN</td>\n",
       "      <td>NaN</td>\n",
       "      <td>NaN</td>\n",
       "      <td>NaN</td>\n",
       "      <td>NaN</td>\n",
       "      <td>NaN</td>\n",
       "      <td>NaN</td>\n",
       "      <td>NaN</td>\n",
       "    </tr>\n",
       "    <tr>\n",
       "      <th>1SG</th>\n",
       "      <td>NaN</td>\n",
       "      <td>NaN</td>\n",
       "      <td>NaN</td>\n",
       "      <td>NaN</td>\n",
       "      <td>NaN</td>\n",
       "      <td>NaN</td>\n",
       "      <td>NaN</td>\n",
       "      <td>NaN</td>\n",
       "      <td>NaN</td>\n",
       "      <td>NaN</td>\n",
       "      <td>...</td>\n",
       "      <td>NaN</td>\n",
       "      <td>NaN</td>\n",
       "      <td>NaN</td>\n",
       "      <td>NaN</td>\n",
       "      <td>NaN</td>\n",
       "      <td>NaN</td>\n",
       "      <td>NaN</td>\n",
       "      <td>NaN</td>\n",
       "      <td>NaN</td>\n",
       "      <td>NaN</td>\n",
       "    </tr>\n",
       "    <tr>\n",
       "      <th>1World</th>\n",
       "      <td>NaN</td>\n",
       "      <td>NaN</td>\n",
       "      <td>NaN</td>\n",
       "      <td>NaN</td>\n",
       "      <td>NaN</td>\n",
       "      <td>NaN</td>\n",
       "      <td>NaN</td>\n",
       "      <td>NaN</td>\n",
       "      <td>NaN</td>\n",
       "      <td>NaN</td>\n",
       "      <td>...</td>\n",
       "      <td>NaN</td>\n",
       "      <td>NaN</td>\n",
       "      <td>NaN</td>\n",
       "      <td>NaN</td>\n",
       "      <td>NaN</td>\n",
       "      <td>NaN</td>\n",
       "      <td>NaN</td>\n",
       "      <td>NaN</td>\n",
       "      <td>NaN</td>\n",
       "      <td>NaN</td>\n",
       "    </tr>\n",
       "    <tr>\n",
       "      <th>1irstcoin</th>\n",
       "      <td>NaN</td>\n",
       "      <td>NaN</td>\n",
       "      <td>NaN</td>\n",
       "      <td>NaN</td>\n",
       "      <td>NaN</td>\n",
       "      <td>NaN</td>\n",
       "      <td>NaN</td>\n",
       "      <td>NaN</td>\n",
       "      <td>NaN</td>\n",
       "      <td>NaN</td>\n",
       "      <td>...</td>\n",
       "      <td>NaN</td>\n",
       "      <td>NaN</td>\n",
       "      <td>NaN</td>\n",
       "      <td>NaN</td>\n",
       "      <td>NaN</td>\n",
       "      <td>NaN</td>\n",
       "      <td>NaN</td>\n",
       "      <td>NaN</td>\n",
       "      <td>NaN</td>\n",
       "      <td>NaN</td>\n",
       "    </tr>\n",
       "    <tr>\n",
       "      <th>...</th>\n",
       "      <td>...</td>\n",
       "      <td>...</td>\n",
       "      <td>...</td>\n",
       "      <td>...</td>\n",
       "      <td>...</td>\n",
       "      <td>...</td>\n",
       "      <td>...</td>\n",
       "      <td>...</td>\n",
       "      <td>...</td>\n",
       "      <td>...</td>\n",
       "      <td>...</td>\n",
       "      <td>...</td>\n",
       "      <td>...</td>\n",
       "      <td>...</td>\n",
       "      <td>...</td>\n",
       "      <td>...</td>\n",
       "      <td>...</td>\n",
       "      <td>...</td>\n",
       "      <td>...</td>\n",
       "      <td>...</td>\n",
       "      <td>...</td>\n",
       "    </tr>\n",
       "    <tr>\n",
       "      <th>indaHash</th>\n",
       "      <td>NaN</td>\n",
       "      <td>NaN</td>\n",
       "      <td>NaN</td>\n",
       "      <td>NaN</td>\n",
       "      <td>NaN</td>\n",
       "      <td>NaN</td>\n",
       "      <td>NaN</td>\n",
       "      <td>NaN</td>\n",
       "      <td>NaN</td>\n",
       "      <td>NaN</td>\n",
       "      <td>...</td>\n",
       "      <td>NaN</td>\n",
       "      <td>NaN</td>\n",
       "      <td>NaN</td>\n",
       "      <td>NaN</td>\n",
       "      <td>NaN</td>\n",
       "      <td>NaN</td>\n",
       "      <td>NaN</td>\n",
       "      <td>NaN</td>\n",
       "      <td>NaN</td>\n",
       "      <td>NaN</td>\n",
       "    </tr>\n",
       "    <tr>\n",
       "      <th>nDEX</th>\n",
       "      <td>NaN</td>\n",
       "      <td>NaN</td>\n",
       "      <td>NaN</td>\n",
       "      <td>NaN</td>\n",
       "      <td>NaN</td>\n",
       "      <td>NaN</td>\n",
       "      <td>NaN</td>\n",
       "      <td>NaN</td>\n",
       "      <td>NaN</td>\n",
       "      <td>NaN</td>\n",
       "      <td>...</td>\n",
       "      <td>NaN</td>\n",
       "      <td>NaN</td>\n",
       "      <td>NaN</td>\n",
       "      <td>NaN</td>\n",
       "      <td>NaN</td>\n",
       "      <td>NaN</td>\n",
       "      <td>NaN</td>\n",
       "      <td>NaN</td>\n",
       "      <td>NaN</td>\n",
       "      <td>NaN</td>\n",
       "    </tr>\n",
       "    <tr>\n",
       "      <th>pEOS</th>\n",
       "      <td>NaN</td>\n",
       "      <td>NaN</td>\n",
       "      <td>NaN</td>\n",
       "      <td>NaN</td>\n",
       "      <td>NaN</td>\n",
       "      <td>NaN</td>\n",
       "      <td>NaN</td>\n",
       "      <td>NaN</td>\n",
       "      <td>NaN</td>\n",
       "      <td>NaN</td>\n",
       "      <td>...</td>\n",
       "      <td>NaN</td>\n",
       "      <td>NaN</td>\n",
       "      <td>NaN</td>\n",
       "      <td>NaN</td>\n",
       "      <td>NaN</td>\n",
       "      <td>NaN</td>\n",
       "      <td>NaN</td>\n",
       "      <td>NaN</td>\n",
       "      <td>NaN</td>\n",
       "      <td>NaN</td>\n",
       "    </tr>\n",
       "    <tr>\n",
       "      <th>qiibee</th>\n",
       "      <td>NaN</td>\n",
       "      <td>NaN</td>\n",
       "      <td>NaN</td>\n",
       "      <td>NaN</td>\n",
       "      <td>NaN</td>\n",
       "      <td>NaN</td>\n",
       "      <td>NaN</td>\n",
       "      <td>NaN</td>\n",
       "      <td>NaN</td>\n",
       "      <td>NaN</td>\n",
       "      <td>...</td>\n",
       "      <td>NaN</td>\n",
       "      <td>NaN</td>\n",
       "      <td>NaN</td>\n",
       "      <td>NaN</td>\n",
       "      <td>NaN</td>\n",
       "      <td>NaN</td>\n",
       "      <td>NaN</td>\n",
       "      <td>NaN</td>\n",
       "      <td>NaN</td>\n",
       "      <td>NaN</td>\n",
       "    </tr>\n",
       "    <tr>\n",
       "      <th>savedroid</th>\n",
       "      <td>NaN</td>\n",
       "      <td>NaN</td>\n",
       "      <td>NaN</td>\n",
       "      <td>NaN</td>\n",
       "      <td>NaN</td>\n",
       "      <td>NaN</td>\n",
       "      <td>NaN</td>\n",
       "      <td>NaN</td>\n",
       "      <td>NaN</td>\n",
       "      <td>NaN</td>\n",
       "      <td>...</td>\n",
       "      <td>NaN</td>\n",
       "      <td>NaN</td>\n",
       "      <td>NaN</td>\n",
       "      <td>NaN</td>\n",
       "      <td>NaN</td>\n",
       "      <td>NaN</td>\n",
       "      <td>NaN</td>\n",
       "      <td>NaN</td>\n",
       "      <td>NaN</td>\n",
       "      <td>NaN</td>\n",
       "    </tr>\n",
       "  </tbody>\n",
       "</table>\n",
       "<p>651 rows × 1518 columns</p>\n",
       "</div>"
      ],
      "text/plain": [
       "           0     1     2     3     4     5     6     7     8     9     ...  \\\n",
       "0x          NaN   NaN   NaN   NaN   NaN   NaN   NaN   NaN   NaN   NaN  ...   \n",
       "0xcert      NaN   NaN   NaN   NaN   NaN   NaN   NaN   NaN   NaN   NaN  ...   \n",
       "1SG         NaN   NaN   NaN   NaN   NaN   NaN   NaN   NaN   NaN   NaN  ...   \n",
       "1World      NaN   NaN   NaN   NaN   NaN   NaN   NaN   NaN   NaN   NaN  ...   \n",
       "1irstcoin   NaN   NaN   NaN   NaN   NaN   NaN   NaN   NaN   NaN   NaN  ...   \n",
       "...         ...   ...   ...   ...   ...   ...   ...   ...   ...   ...  ...   \n",
       "indaHash    NaN   NaN   NaN   NaN   NaN   NaN   NaN   NaN   NaN   NaN  ...   \n",
       "nDEX        NaN   NaN   NaN   NaN   NaN   NaN   NaN   NaN   NaN   NaN  ...   \n",
       "pEOS        NaN   NaN   NaN   NaN   NaN   NaN   NaN   NaN   NaN   NaN  ...   \n",
       "qiibee      NaN   NaN   NaN   NaN   NaN   NaN   NaN   NaN   NaN   NaN  ...   \n",
       "savedroid   NaN   NaN   NaN   NaN   NaN   NaN   NaN   NaN   NaN   NaN  ...   \n",
       "\n",
       "           1508  1509  1510  1511  1512  1513  1514  1515  1516  1517  \n",
       "0x          NaN   NaN   NaN   NaN   NaN   NaN   NaN   NaN   NaN   NaN  \n",
       "0xcert      NaN   NaN   NaN   NaN   NaN   NaN   NaN   NaN   NaN   NaN  \n",
       "1SG         NaN   NaN   NaN   NaN   NaN   NaN   NaN   NaN   NaN   NaN  \n",
       "1World      NaN   NaN   NaN   NaN   NaN   NaN   NaN   NaN   NaN   NaN  \n",
       "1irstcoin   NaN   NaN   NaN   NaN   NaN   NaN   NaN   NaN   NaN   NaN  \n",
       "...         ...   ...   ...   ...   ...   ...   ...   ...   ...   ...  \n",
       "indaHash    NaN   NaN   NaN   NaN   NaN   NaN   NaN   NaN   NaN   NaN  \n",
       "nDEX        NaN   NaN   NaN   NaN   NaN   NaN   NaN   NaN   NaN   NaN  \n",
       "pEOS        NaN   NaN   NaN   NaN   NaN   NaN   NaN   NaN   NaN   NaN  \n",
       "qiibee      NaN   NaN   NaN   NaN   NaN   NaN   NaN   NaN   NaN   NaN  \n",
       "savedroid   NaN   NaN   NaN   NaN   NaN   NaN   NaN   NaN   NaN   NaN  \n",
       "\n",
       "[651 rows x 1518 columns]"
      ]
     },
     "execution_count": 7,
     "metadata": {},
     "output_type": "execute_result"
    }
   ],
   "source": [
    "price_df=pd.DataFrame(price)\n",
    "price_df.reindex(name)\n",
    "return_df=pd.DataFrame(return_arr)\n",
    "return_df.reindex(name)"
   ]
  },
  {
   "cell_type": "code",
   "execution_count": 8,
   "id": "3435349b-f7fb-4988-9897-9a4ead2ad022",
   "metadata": {},
   "outputs": [],
   "source": [
    "replace_0_return=np.nan_to_num(return_arr,0)\n",
    "sort=np.argsort(replace_0_return,axis=0)"
   ]
  },
  {
   "cell_type": "code",
   "execution_count": 9,
   "id": "08db32f9-2e07-4148-a29d-f7f34b388476",
   "metadata": {},
   "outputs": [],
   "source": [
    "### market return for each day(weighted return based on market portfolio)"
   ]
  },
  {
   "cell_type": "code",
   "execution_count": 96,
   "id": "ea495d42-3a64-414f-9484-4496266998b7",
   "metadata": {},
   "outputs": [],
   "source": [
    "replace_0_cap=np.nan_to_num(mar_cap,0)\n",
    "sort_cap=np.argsort(replace_0_cap,axis=0)"
   ]
  },
  {
   "cell_type": "code",
   "execution_count": 12,
   "id": "4db65b2d-c26c-4de2-94a0-bd99316fffb0",
   "metadata": {},
   "outputs": [],
   "source": [
    "mar_return=np.sum(replace_0_return*replace_0_cap*(1/np.sum(replace_0_cap,axis=0)),axis=0)"
   ]
  },
  {
   "cell_type": "code",
   "execution_count": 13,
   "id": "a675e51c-78bb-4417-94d1-f0b98f7ea311",
   "metadata": {},
   "outputs": [
    {
     "data": {
      "text/plain": [
       "array([ 0.        , -0.08722966, -0.0282749 , ..., -0.03333066,\n",
       "        0.08033156, -0.02791203])"
      ]
     },
     "execution_count": 13,
     "metadata": {},
     "output_type": "execute_result"
    }
   ],
   "source": [
    "mar_return"
   ]
  },
  {
   "cell_type": "code",
   "execution_count": null,
   "id": "70db7639-83f1-45a3-ad4b-f1b324a8a11b",
   "metadata": {},
   "outputs": [],
   "source": []
  },
  {
   "cell_type": "markdown",
   "id": "4acd6a09-2ee7-4945-8a17-7dd4086ad760",
   "metadata": {},
   "source": [
    "## select the top 5 and bottom 5"
   ]
  },
  {
   "cell_type": "markdown",
   "id": "1c29228e-ff62-4d10-959c-d72b10bdb65c",
   "metadata": {},
   "source": [
    "### simple select top x and bottom x and discover whether they acheive the momentum/mean reversion"
   ]
  },
  {
   "cell_type": "code",
   "execution_count": 14,
   "id": "c8e93755-6aef-4855-915b-de7a6eb415bf",
   "metadata": {},
   "outputs": [],
   "source": [
    "# let's start with 200 as most of the token did not exsit at the early stage"
   ]
  },
  {
   "cell_type": "code",
   "execution_count": 20,
   "id": "65720fb7-0fe2-4460-8f7d-afd235c5b35e",
   "metadata": {
    "collapsed": true,
    "jupyter": {
     "outputs_hidden": true
    },
    "tags": []
   },
   "outputs": [
    {
     "data": {
      "text/plain": [
       "array([[  0,  19, 194, ..., 361,  11, 158],\n",
       "       [429, 281, 180, ..., 205,  65, 648],\n",
       "       [430, 180, 489, ..., 255, 319, 365],\n",
       "       ...,\n",
       "       [221, 223,  51, ..., 113, 611, 319],\n",
       "       [203, 206, 281, ..., 187,  82, 361],\n",
       "       [650,  51,  19, ..., 440, 439,  11]])"
      ]
     },
     "execution_count": 20,
     "metadata": {},
     "output_type": "execute_result"
    }
   ],
   "source": [
    "sort"
   ]
  },
  {
   "cell_type": "code",
   "execution_count": 46,
   "id": "c74170ba-59ee-466b-bfc2-8f03ecfa215a",
   "metadata": {
    "jupyter": {
     "source_hidden": true
    },
    "tags": []
   },
   "outputs": [],
   "source": [
    "def simple_ratio_momentum(top_num,lag,start,market):\n",
    "    count = 0\n",
    "    for i in range(np.shape(return_arr)[0]):\n",
    "        for j in range(start-lag,np.shape(return_arr)[1]-lag):\n",
    "            if sort[i][j]<top_num:\n",
    "                if return_arr[i][j+lag]>=(mar_return[j+lag] if market else 0):\n",
    "                    count+=1\n",
    "            \n",
    "    return count/(np.shape(return_arr)[1]-start)/top_num"
   ]
  },
  {
   "cell_type": "code",
   "execution_count": 51,
   "id": "0df27686-5f3b-4b3f-8266-0b9b5cf5f510",
   "metadata": {},
   "outputs": [
    {
     "data": {
      "text/plain": [
       "(0.4557915057915058, 0.5231660231660232)"
      ]
     },
     "execution_count": 51,
     "metadata": {},
     "output_type": "execute_result"
    }
   ],
   "source": [
    "simple_ratio_momentum(10,1,1000,True),simple_ratio_momentum(10,1,1000,False)"
   ]
  },
  {
   "cell_type": "code",
   "execution_count": 102,
   "id": "359d7e42-ada6-4690-94d3-0cb3c7f3f7b9",
   "metadata": {},
   "outputs": [],
   "source": [
    "sort_rev = -1*(sort-650)"
   ]
  },
  {
   "cell_type": "code",
   "execution_count": 94,
   "id": "31dad7e9-02de-4b1e-9c4e-fc65cb3e22d9",
   "metadata": {},
   "outputs": [],
   "source": [
    "def simple_ratio_mean_reversion(bottom_num,lag,start,market):\n",
    "    count = 0\n",
    "    for i in range(np.shape(return_arr)[0]):\n",
    "        for j in range(start-lag,np.shape(return_arr)[1]-lag):\n",
    "             if sort_rev[i][j]<bottom_num:\n",
    "                if return_arr[i][j+lag]>=(mar_return[j+lag] if market else 0):\n",
    "                    count+=1\n",
    "            \n",
    "    return count/(np.shape(return_arr)[1]-start)/bottom_num"
   ]
  },
  {
   "cell_type": "code",
   "execution_count": 95,
   "id": "0dddbed2-fa9f-4ce9-91a7-a341b323004d",
   "metadata": {},
   "outputs": [
    {
     "data": {
      "text/plain": [
       "(0.4555984555984556, 0.5301158301158301)"
      ]
     },
     "execution_count": 95,
     "metadata": {},
     "output_type": "execute_result"
    }
   ],
   "source": [
    "simple_ratio_mean_reversion(10,1,1000,True),simple_ratio_mean_reversion(10,1,1000,False)"
   ]
  },
  {
   "cell_type": "code",
   "execution_count": 99,
   "id": "ea88874b-8b7c-4d59-994e-8306c2a7c921",
   "metadata": {},
   "outputs": [
    {
     "data": {
      "text/plain": [
       "[(1, 5), (1, 10), (1, 20), (2, 5), (2, 10), (2, 20), (3, 5), (3, 10), (3, 20)]"
      ]
     },
     "execution_count": 99,
     "metadata": {},
     "output_type": "execute_result"
    }
   ],
   "source": [
    "from itertools import product\n",
    "list(product([1,2,3],[5,10,20]))"
   ]
  },
  {
   "cell_type": "code",
   "execution_count": 131,
   "id": "dbfb306a-e6ee-4442-8fad-f7c95dcf64f9",
   "metadata": {},
   "outputs": [
    {
     "name": "stdout",
     "output_type": "stream",
     "text": [
      "1 5\n",
      "0.4337047353760446 0.49164345403899723\n",
      "0.4473537604456824 0.5022284122562674\n",
      "1 10\n",
      "0.4350974930362117 0.4910863509749303\n",
      "0.44164345403899724 0.49665738161559886\n",
      "1 20\n",
      "0.4403899721448468 0.4956128133704736\n",
      "0.4435933147632312 0.49616991643454045\n",
      "2 5\n",
      "0.45403899721448465 0.49832869080779946\n",
      "0.4403899721448468 0.49136490250696385\n",
      "2 10\n",
      "0.44944289693593314 0.4948467966573816\n",
      "0.4419220055710307 0.49526462395543175\n",
      "2 20\n",
      "0.4454038997214485 0.4935933147632312\n",
      "0.4433147632311978 0.49867688022284123\n",
      "3 5\n",
      "0.45125348189415043 0.5033426183844012\n",
      "0.45348189415041784 0.5091922005571031\n",
      "3 10\n",
      "0.45 0.5023676880222842\n",
      "0.45208913649025073 0.5052924791086351\n",
      "3 20\n",
      "0.44568245125348194 0.5028551532033426\n",
      "0.44742339832869077 0.5023676880222842\n"
     ]
    }
   ],
   "source": [
    "for i,j in list(product([1,2,3],[5,10,20])):\n",
    "    print(i,j)\n",
    "    print(simple_ratio_momentum(j,i,800,True),simple_ratio_momentum(j,i,800,False))\n",
    "    print(simple_ratio_mean_reversion(j,i,800,True),simple_ratio_mean_reversion(j,i,800,False))"
   ]
  },
  {
   "cell_type": "markdown",
   "id": "57148de0-7446-4c0a-bd2d-b2714729a659",
   "metadata": {},
   "source": [
    "# conclusion: \n",
    "1.using only mean reversion or momentum is no better than random guess, compared to the market portfolio, however, the return of market portfolio is highly influenced by the token with high marketcap. Also that prediction accuracy is probably not enough to cover the transaction cost.  \n",
    "2.Inspire me to introduct two baselines, EWP and market portfolio"
   ]
  },
  {
   "cell_type": "code",
   "execution_count": null,
   "id": "5f866c57-6ece-4179-bfd7-5aba5cc67a94",
   "metadata": {},
   "outputs": [],
   "source": [
    "### baselines:"
   ]
  },
  {
   "cell_type": "code",
   "execution_count": 60,
   "id": "f5ed6d6b-a6d8-4a38-b7ff-f3e464b5e73d",
   "metadata": {},
   "outputs": [
    {
     "data": {
      "text/plain": [
       "array([1.        , 0.91277034, 0.9717251 , ..., 0.96666934, 1.08033156,\n",
       "       0.97208797])"
      ]
     },
     "execution_count": 60,
     "metadata": {},
     "output_type": "execute_result"
    }
   ],
   "source": [
    "mar_return+1"
   ]
  },
  {
   "cell_type": "code",
   "execution_count": 81,
   "id": "3e1762f3-1920-4815-9dd7-873d716bc493",
   "metadata": {
    "tags": []
   },
   "outputs": [],
   "source": [
    "mar_cum_return=np.cumprod(mar_return[800:]+1)"
   ]
  },
  {
   "cell_type": "code",
   "execution_count": 82,
   "id": "2a283970-d17d-49e0-b0c4-7f6726c4e67b",
   "metadata": {},
   "outputs": [],
   "source": [
    "ewp_return=np.sum(replace_0_return/651,axis=0)\n",
    "ewp_cum_return=np.cumprod(ewp_return[800:]+1)"
   ]
  },
  {
   "cell_type": "code",
   "execution_count": 147,
   "id": "1e9bdc06-1543-4ed6-a4ea-cbed7f52da04",
   "metadata": {
    "collapsed": true,
    "jupyter": {
     "outputs_hidden": true
    },
    "tags": []
   },
   "outputs": [
    {
     "data": {
      "text/plain": [
       "array([ 0.        , -0.00266941, -0.00269656, ..., -0.04979369,\n",
       "        0.03597428, -0.02446379])"
      ]
     },
     "execution_count": 147,
     "metadata": {},
     "output_type": "execute_result"
    }
   ],
   "source": [
    "ewp_return "
   ]
  },
  {
   "cell_type": "code",
   "execution_count": 84,
   "id": "fbac95ae-faa1-4b85-a0ef-56ad83f0f807",
   "metadata": {},
   "outputs": [],
   "source": [
    "## both ewp and market portfolio is not a good baslines."
   ]
  },
  {
   "cell_type": "code",
   "execution_count": 189,
   "id": "e0c3e3db-9323-49ae-865f-9607e2697f9f",
   "metadata": {},
   "outputs": [],
   "source": [
    "def fetch_data_momentum(bottom_num,lag,start):\n",
    "\n",
    "    #sort_cap_rev= -1*(sort_cap-650)\n",
    "    arr = []\n",
    "    for j in range(start-lag,np.shape(return_arr)[1]-lag):\n",
    "        arr_i=[]\n",
    "        for i in range(np.shape(return_arr)[0]):\n",
    "             if sort[i][j]<bottom_num:\n",
    "                    arr_i.append(return_arr[i][j+lag])\n",
    "        arr.append(arr_i)\n",
    "                                     \n",
    "    return arr"
   ]
  },
  {
   "cell_type": "code",
   "execution_count": 190,
   "id": "b14ae226-9ea1-47f8-b056-1fdad8897598",
   "metadata": {
    "tags": []
   },
   "outputs": [],
   "source": [
    "data_momentum=np.nan_to_num(fetch_data_momentum(5,1,800),0)\n",
    "ewp_momentum=np.sum(data_momentum/5,axis=1)"
   ]
  },
  {
   "cell_type": "code",
   "execution_count": 139,
   "id": "6c75f236-ec3e-4923-af34-9f43b3358292",
   "metadata": {},
   "outputs": [],
   "source": [
    "def fetch_data_mean_reversion(bottom_num,lag,start):\n",
    "\n",
    "    #sort_cap_rev= -1*(sort_cap-650)\n",
    "    arr = []\n",
    "    for j in range(start-lag,np.shape(return_arr)[1]-lag):\n",
    "        arr_i=[]\n",
    "        for i in range(np.shape(return_arr)[0]):\n",
    "             if sort_rev[i][j]<bottom_num:\n",
    "                    arr_i.append(return_arr[i][j+lag])\n",
    "        arr.append(arr_i)\n",
    "                                     \n",
    "    return arr"
   ]
  },
  {
   "cell_type": "code",
   "execution_count": 150,
   "id": "13119c9c-018a-4baa-8727-807d42fb8ee4",
   "metadata": {
    "tags": []
   },
   "outputs": [
    {
     "data": {
      "text/plain": [
       "(718,)"
      ]
     },
     "execution_count": 150,
     "metadata": {},
     "output_type": "execute_result"
    }
   ],
   "source": [
    "data_mean_reversion=np.nan_to_num(fetch_data_mean_reversion(5,1,800),0)\n",
    "ewp_mean_reversion=np.sum(data_mean_reversion/5,axis=1)\n",
    "np.cumprod(ewp_mean_reversion+1).shape"
   ]
  },
  {
   "cell_type": "code",
   "execution_count": 148,
   "id": "b07cd8d2-6f55-447c-a461-f30088de4632",
   "metadata": {},
   "outputs": [],
   "source": [
    "### simple selection"
   ]
  },
  {
   "cell_type": "code",
   "execution_count": 198,
   "id": "228e8af4-ff22-42ad-87c4-aa68632081e6",
   "metadata": {},
   "outputs": [],
   "source": [
    "def fetch_data_constraint(bottom_num,cap,lag,start):\n",
    "    #sort_cap_rev= -1*(sort_cap-650)\n",
    "    arr = []\n",
    "    for j in range(start-lag,np.shape(return_arr)[1]-lag):\n",
    "        arr_i=[]\n",
    "        for i in range(np.shape(return_arr)[0]):\n",
    "             if sort_cap[i][j]<cap and sort_rev[i][j]<bottom_num:\n",
    "                    arr_i.append(return_arr[i][j+lag])\n",
    "        return_sum=np.sum(arr_i)\n",
    "        arr.append(return_sum)\n",
    "    \n",
    "    return arr"
   ]
  },
  {
   "cell_type": "code",
   "execution_count": 202,
   "id": "ae2c7257-741c-43e7-8941-71ce4b9578c0",
   "metadata": {
    "collapsed": true,
    "jupyter": {
     "outputs_hidden": true
    },
    "tags": []
   },
   "outputs": [
    {
     "data": {
      "text/plain": [
       "array([ 9.43141593e-01,  9.29122574e-01,  9.93289939e-01,  9.93289939e-01,\n",
       "        9.81513821e-01,  9.81513821e-01,  8.81795038e-01,  8.95714455e-01,\n",
       "        8.95416776e-01,  8.95416776e-01,  8.40855664e-01,  8.40855664e-01,\n",
       "        6.37771458e-01,  6.58410725e-01,  7.19005392e-01,  7.19005392e-01,\n",
       "        7.54240232e-01,  7.25980091e-01,  7.25980091e-01,  7.25980091e-01,\n",
       "        7.52140364e-01,  7.52140364e-01,  6.87948757e-01,  6.87948757e-01,\n",
       "        6.87948757e-01,  5.64829229e-01,  5.72829903e-01,  7.60316975e-01,\n",
       "        5.22431281e-01,  5.22431281e-01,  1.86817624e-01,  1.94464071e-01,\n",
       "        2.08446177e-01,  2.08446177e-01,  2.08446177e-01,  2.03155040e-01,\n",
       "        2.03155040e-01,  2.03155040e-01,  1.99444446e-01,  1.99444446e-01,\n",
       "        1.99444446e-01,  1.99444446e-01,  2.22021438e-01,  1.90683279e-01,\n",
       "        1.53610559e-01,  1.53610559e-01,  1.53610559e-01,  1.53610559e-01,\n",
       "        1.44261480e-01,  1.44261480e-01,  1.48885590e-01,  6.92394584e-02,\n",
       "        6.92394584e-02,  6.69133885e-02,  8.50156906e-02,  8.50156906e-02,\n",
       "        8.94119077e-02,  8.94119077e-02,  8.60309731e-02,  8.60309731e-02,\n",
       "        8.52366667e-02,  8.52366667e-02,  9.00124319e-02,  9.00124319e-02,\n",
       "        8.27946869e-02,  8.27946869e-02,  6.33653425e-02,  7.18610667e-02,\n",
       "        6.91176368e-02,  8.10063178e-02,  7.95930558e-02,  8.56483706e-02,\n",
       "        9.12750845e-02,  9.12750845e-02,  9.12750845e-02,  9.47572894e-02,\n",
       "        9.47572894e-02,  9.79929042e-02,  1.09335326e-01,  1.20820412e-01,\n",
       "        1.20820412e-01,  1.20820412e-01,  1.09307634e-01,  1.09307634e-01,\n",
       "        1.09307634e-01,  4.24036777e-02,  4.43907576e-02,  5.28272455e-02,\n",
       "        4.47891713e-02,  4.73485525e-02,  4.58040277e-02, -5.46617093e-03,\n",
       "       -5.26940716e-03, -6.19957431e-03, -6.81435053e-03, -3.12367451e-03,\n",
       "       -3.26930036e-03, -3.26930036e-03, -3.07837457e-03, -3.28287894e-03,\n",
       "       -3.28287894e-03, -3.37921689e-03, -5.11149514e-03, -4.95872318e-03,\n",
       "       -4.68595442e-03, -4.32177198e-03, -2.50090715e-03, -2.50090715e-03,\n",
       "       -2.50090715e-03, -2.50090715e-03, -2.50090715e-03, -2.30505681e-03,\n",
       "       -2.30505681e-03, -2.26067707e-03, -3.01873726e-03, -3.03943421e-03,\n",
       "       -3.00425797e-03, -3.11148203e-03, -2.96227062e-03, -2.96227062e-03,\n",
       "       -2.96227062e-03, -2.89116539e-03, -2.73199232e-03, -2.73199232e-03,\n",
       "       -2.73199232e-03, -2.73199232e-03, -2.78407069e-03, -2.78407069e-03,\n",
       "       -2.97384036e-03, -2.04444318e-03, -1.97859588e-03, -2.21601291e-03,\n",
       "       -1.92284057e-03, -2.01820266e-03, -1.93389617e-03, -1.91198411e-03,\n",
       "       -1.80127772e-03, -1.70673552e-03, -1.75362385e-03, -1.75362385e-03,\n",
       "       -1.47188710e-03, -1.24350336e-03, -1.26052869e-03, -1.26052869e-03,\n",
       "       -1.26485347e-03, -1.27779819e-03, -1.12133003e-03, -1.30476966e-03,\n",
       "       -1.30476966e-03, -1.72982761e-03, -1.83165926e-03, -1.85883673e-03,\n",
       "       -1.36759083e-03, -1.38251864e-03,  1.89339366e-03,  1.89339366e-03,\n",
       "        1.91917166e-03,  1.96888561e-03,  1.96888561e-03,  1.96888561e-03,\n",
       "        1.96512615e-03,  2.33934291e-03,  2.33934291e-03,  2.30942644e-03,\n",
       "        2.31986398e-03, -3.92474071e-03, -3.92474071e-03,  1.40255459e-02,\n",
       "        1.60254963e-02,  1.60254963e-02,  1.60835395e-02,  1.60835395e-02,\n",
       "        2.01505167e-02,  2.01505167e-02,  2.00749365e-02,  2.00749365e-02,\n",
       "        2.05625868e-02,  5.85162459e-03,  5.06206673e-03,  5.80277013e-03,\n",
       "        5.80277013e-03,  5.80013239e-03,  8.85240153e-03,  8.85240153e-03,\n",
       "        8.85240153e-03,  8.85240153e-03,  9.54881092e-03,  4.20573956e-03,\n",
       "        4.41035216e-03,  4.41035216e-03,  4.40046348e-03,  4.42472850e-03,\n",
       "        4.20920591e-03,  3.58662677e-03,  3.79671230e-03,  3.79671230e-03,\n",
       "        3.79671230e-03,  4.58855028e-03,  3.05939554e-03,  2.97639285e-03,\n",
       "        2.97639285e-03,  2.90937562e-03,  3.38661184e-03,  3.38661184e-03,\n",
       "        2.93876315e-03,  1.54558763e-03,  1.58517910e-03,  2.53162034e-03,\n",
       "        2.53162034e-03,  2.37595646e-03,  2.45810749e-03,  2.38977249e-03,\n",
       "        2.38977249e-03,  2.38977249e-03,  1.48585276e-03,  1.48585276e-03,\n",
       "        1.46631899e-03,  1.30454374e-03,  1.24795816e-03,  1.24795816e-03,\n",
       "        1.39006318e-03,  1.34234262e-03,  1.19196817e-03,  1.24218815e-03,\n",
       "        1.31153223e-03,  1.37660825e-03,  1.19392839e-03,  1.19339324e-03,\n",
       "        1.19339324e-03,  1.19339324e-03,  1.12113067e-03,  1.12113067e-03,\n",
       "        1.07486723e-03,  1.32460315e-03,  1.38117474e-03,  1.38117474e-03,\n",
       "        1.30251316e-03,  9.82764654e-04,  8.44361588e-04,  7.92578951e-04,\n",
       "        7.58085483e-04,  7.58085483e-04,  9.09101604e-04,  3.05078420e-04,\n",
       "        3.18561212e-04,  2.40656941e-04,  2.05591134e-04,  1.06455382e-04,\n",
       "        9.67664079e-05,  9.60888583e-05,  1.06524686e-04,  1.06855680e-04,\n",
       "        6.97560457e-05,  7.86340878e-05, -1.59120826e-04, -1.45388489e-04,\n",
       "       -1.09917822e-04, -1.16268213e-04, -1.67172738e-04, -1.67172738e-04,\n",
       "       -1.67172738e-04, -1.67172738e-04, -1.67172738e-04, -1.77991633e-04,\n",
       "       -1.49686014e-04, -1.81992355e-04, -1.78752232e-04, -1.79107840e-04,\n",
       "       -1.79107840e-04, -1.57179883e-04, -1.00088928e-04, -1.05666402e-04,\n",
       "       -1.00702209e-04, -6.61817004e-05, -6.61817004e-05, -6.51342510e-05,\n",
       "       -6.18102539e-05, -5.85300882e-05, -4.98608039e-05, -5.87518802e-05,\n",
       "       -5.66456807e-05, -6.42721345e-05, -6.42721345e-05, -4.68135979e-05,\n",
       "       -4.27011086e-05, -4.19936076e-05, -4.38897611e-05, -4.60443191e-05,\n",
       "       -4.78905677e-05, -4.86495600e-05, -4.80716659e-05, -4.67878324e-05,\n",
       "       -4.67878324e-05, -4.67811245e-05, -5.19873888e-05, -5.06428910e-05,\n",
       "       -5.06428910e-05, -5.16756390e-05, -5.16756390e-05, -4.90946624e-05,\n",
       "       -8.43090381e-05, -4.10719043e-05, -5.16463497e-05, -5.16463497e-05,\n",
       "       -5.06983882e-05, -5.29169942e-05, -4.49201988e-05, -4.03744244e-05,\n",
       "       -3.82233832e-05, -3.70991660e-05, -3.35093828e-05, -3.16107398e-05,\n",
       "       -3.23518683e-05, -3.31331002e-05, -3.40490344e-05, -3.40490344e-05,\n",
       "       -3.40490344e-05, -4.97292401e-05, -4.07594879e-05, -4.18859162e-05,\n",
       "       -4.19555520e-05, -4.12181279e-05, -4.21449260e-05, -3.86154272e-05,\n",
       "       -3.97080973e-05, -5.26350744e-05, -5.28437367e-05, -5.52977393e-05,\n",
       "       -6.91889906e-05, -6.91889906e-05, -6.27027373e-05, -6.79470239e-05,\n",
       "       -7.06230002e-05, -6.94398151e-05, -7.92979508e-05, -7.92979508e-05,\n",
       "       -8.78406017e-05, -8.78406017e-05, -8.78406017e-05, -7.80371836e-05,\n",
       "       -7.80371836e-05, -3.04408715e-05, -3.54361582e-05, -3.54361582e-05,\n",
       "       -1.76030658e-05, -1.76030658e-05, -1.66226160e-05, -1.66226160e-05,\n",
       "       -1.80448479e-05, -1.87267670e-05, -1.87267670e-05, -1.83910065e-05,\n",
       "       -1.33014523e-05, -1.33014523e-05, -1.24506500e-05, -1.31763577e-05,\n",
       "       -1.75050058e-05, -1.87149106e-05, -1.69946167e-05, -1.58261911e-05,\n",
       "       -1.50692775e-05, -1.04800192e-05, -3.69537207e-07, -1.82346810e-08,\n",
       "       -1.76171487e-08, -1.76171487e-08, -1.68980676e-08, -1.78514176e-08,\n",
       "       -1.84182636e-08, -2.02911416e-08, -2.02911416e-08, -2.02911416e-08,\n",
       "       -2.02220186e-08, -2.02220186e-08, -1.99529043e-08, -1.97710550e-08,\n",
       "       -2.35734177e-08, -2.04613985e-08, -2.33500728e-08, -2.22299604e-08,\n",
       "       -2.30305948e-08, -2.40504559e-08, -2.40504559e-08, -2.08237251e-08,\n",
       "       -2.57881431e-08, -2.79586676e-08, -2.79586676e-08, -2.89002976e-08,\n",
       "       -2.89002976e-08, -2.36277028e-08, -2.27255881e-08, -2.27282146e-08,\n",
       "       -1.75078726e-08, -1.60075700e-08, -1.60075700e-08, -1.89296999e-08,\n",
       "       -1.89296999e-08, -1.89296999e-08, -1.89296999e-08, -1.99375180e-08,\n",
       "       -1.99375180e-08, -1.99375180e-08, -1.86048706e-08, -1.71170634e-08,\n",
       "       -1.42384851e-08, -3.49998739e-09, -3.84867281e-09, -3.84867281e-09,\n",
       "       -4.24392033e-09, -4.54006401e-09, -4.54782481e-09, -4.57401190e-09,\n",
       "       -5.61537483e-09, -5.65042015e-09, -5.55137272e-09, -5.55137272e-09,\n",
       "       -5.55137272e-09, -5.61092031e-09, -5.62044324e-09, -5.62044324e-09,\n",
       "       -5.50038186e-09, -5.16818513e-09, -4.64027148e-09, -3.89041615e-09,\n",
       "       -2.82615775e-09, -3.01070448e-09, -2.78144747e-09, -2.78144747e-09,\n",
       "       -3.46149791e-09, -3.29859522e-09, -3.38640932e-09, -3.58226551e-09,\n",
       "       -3.58226551e-09, -4.02743445e-09, -1.13593228e-09, -1.13593228e-09,\n",
       "       -9.60845084e-10, -9.75014850e-10, -9.46698092e-10, -9.17645724e-10,\n",
       "       -2.22066809e-10, -2.43838507e-10, -2.73194968e-10, -2.73194968e-10,\n",
       "       -2.76759700e-10, -2.55731389e-10, -2.57011591e-10, -1.79321556e-10,\n",
       "       -1.73348877e-10, -1.55716037e-10, -1.55716037e-10, -1.54599737e-10,\n",
       "       -1.54599737e-10, -1.54599737e-10, -1.46376347e-10, -1.09011234e-10,\n",
       "       -1.22463106e-10, -1.22463106e-10, -1.24504328e-10, -1.23414621e-10,\n",
       "       -1.19855953e-10, -1.83772795e-10, -1.89155262e-10, -1.93007385e-10,\n",
       "       -1.79765306e-10, -1.82492669e-10, -1.88186200e-10, -2.34905660e-10,\n",
       "       -2.36657126e-10, -2.27372581e-10, -2.27372581e-10, -2.19568030e-10,\n",
       "       -2.15782402e-10, -2.15782402e-10, -2.15782402e-10, -2.08760195e-10,\n",
       "       -1.69015243e-10, -1.69015243e-10,  2.13940433e-11,  2.19612681e-11,\n",
       "        2.10750202e-11,  2.06363131e-11,  1.21563371e-11,  1.23312484e-11,\n",
       "        1.41185098e-11,  1.41185098e-11,  7.58668999e-12,  8.09129582e-12,\n",
       "        8.16287294e-12,  8.16287294e-12,  8.43885579e-12,  8.20959253e-12,\n",
       "        8.20959253e-12,  8.20959253e-12,  8.20959253e-12,  1.35295790e-13,\n",
       "        1.35295790e-13,  1.35295790e-13,  4.87612572e-15,  4.87612572e-15,\n",
       "        4.46588460e-15,  4.57520363e-15,  4.20804294e-15,  2.50006800e-15,\n",
       "        2.66482893e-15,  2.66482893e-15,  2.89748879e-15, -6.56524174e-16,\n",
       "       -6.25848616e-16, -5.79691040e-16, -5.17689964e-16, -5.08582965e-16,\n",
       "       -5.08582965e-16, -5.08582965e-16, -4.43549191e-16, -3.98075491e-16,\n",
       "       -4.25892419e-16, -4.59760524e-16, -4.41324746e-16, -4.43418273e-16,\n",
       "       -4.59924165e-16, -4.06421430e-16, -2.49894085e-16, -2.38700621e-16,\n",
       "       -2.53906432e-16, -2.28981740e-16, -2.28981740e-16, -2.24902208e-16,\n",
       "       -1.68676656e-16, -1.51027351e-16, -1.40887575e-16, -1.40887575e-16,\n",
       "       -1.38185751e-16, -1.38185751e-16, -1.21448967e-16, -1.19088552e-16,\n",
       "       -1.15717333e-16, -1.15717333e-16, -9.97093893e-17, -9.58894049e-17,\n",
       "       -8.56680938e-17, -9.82984462e-17, -9.82984462e-17, -9.82984462e-17,\n",
       "       -1.11471351e-16, -1.18077182e-16, -1.18077182e-16, -1.27024644e-16,\n",
       "       -1.27612723e-16, -1.68917795e-16, -1.75728660e-16, -1.67903373e-16,\n",
       "       -1.67903373e-16, -2.00885349e-16, -2.00885349e-16, -2.14959776e-16,\n",
       "       -2.14959776e-16, -2.34267439e-16, -2.59770220e-16, -2.58202292e-16,\n",
       "       -3.26348147e-16, -3.64819193e-16, -3.51846285e-16, -3.51846285e-16,\n",
       "       -3.93471148e-16, -3.99514220e-16, -4.20225829e-16, -4.21885837e-16,\n",
       "       -4.21405329e-16, -4.13563581e-16, -3.70812715e-16, -3.70812715e-16,\n",
       "       -3.70812715e-16, -1.13324778e-16, -1.27896986e-16, -1.14258682e-16,\n",
       "       -1.22063338e-16, -1.22954311e-16, -1.19388926e-16, -1.17256981e-16,\n",
       "       -1.22861891e-16, -1.22861891e-16, -1.23833558e-16, -1.22732634e-16,\n",
       "       -1.18813282e-16, -1.17936319e-16, -1.06938289e-16, -4.55861550e-17,\n",
       "       -4.46775867e-17, -4.64061866e-17, -3.74556504e-17, -3.72825118e-17,\n",
       "       -4.20799376e-17, -4.13570652e-17, -6.22971566e-17, -6.29694563e-17,\n",
       "       -5.20599656e-17, -5.13881003e-17, -5.24271233e-17, -4.59447673e-17,\n",
       "       -4.59447673e-17, -4.59447673e-17, -5.50610566e-17, -5.50610566e-17,\n",
       "       -5.50610566e-17, -5.67660040e-17, -8.15398209e-17, -8.15398209e-17,\n",
       "       -1.00474551e-16, -1.05984499e-16, -1.05225773e-16, -1.04500533e-16,\n",
       "       -6.91985035e-17, -6.91985035e-17, -5.20597363e-17, -5.20597363e-17,\n",
       "       -5.20597363e-17, -6.72692716e-17, -5.92043629e-17, -4.93987635e-17,\n",
       "       -4.93987635e-17, -5.07338652e-17, -4.99594580e-17, -4.99594580e-17,\n",
       "       -4.96695323e-17, -5.70786059e-17, -5.70786059e-17, -3.95992736e-17,\n",
       "       -4.00980819e-17, -4.03561492e-17, -4.03561492e-17, -4.03561492e-17,\n",
       "       -4.00834213e-17, -4.19330319e-17, -3.82866813e-17, -3.84814247e-17,\n",
       "       -4.00882868e-17, -4.00882868e-17, -4.00882868e-17, -4.12384297e-17,\n",
       "       -4.10930747e-17, -4.06105584e-17, -3.83896463e-17, -3.83896463e-17,\n",
       "       -3.71335434e-17, -3.81943665e-17, -3.81943665e-17, -3.43314428e-17,\n",
       "       -3.43314428e-17, -2.85681467e-17, -6.79797230e-17, -7.33750321e-17,\n",
       "       -7.33750321e-17, -7.33750321e-17, -6.61821236e-17, -6.61821236e-17,\n",
       "       -6.90365009e-17, -6.91916394e-17, -6.54680336e-17, -6.55363718e-17,\n",
       "       -6.55363718e-17, -6.55363718e-17, -6.55363718e-17, -6.55363718e-17,\n",
       "       -6.55363718e-17, -5.42873307e-17, -6.03796391e-17, -6.03796391e-17,\n",
       "       -6.03796391e-17, -6.03796391e-17, -7.58063739e-17, -7.58297147e-17,\n",
       "       -7.61426761e-17,  2.81954701e-17,  2.81954701e-17,  2.80086678e-17,\n",
       "        2.85146768e-17,  2.14133099e-17,  2.11116340e-17,  2.11116340e-17,\n",
       "        2.75670118e-17,  2.75670118e-17,  2.75670118e-17,  2.78573120e-17,\n",
       "       -3.20602976e-17, -5.11381634e-17, -5.05487639e-17, -5.05487639e-17,\n",
       "       -3.64992422e-17, -3.74678107e-17, -3.74223335e-17, -4.14059888e-17,\n",
       "       -4.39454316e-17, -3.85933988e-17, -2.98044726e-17, -2.98044726e-17,\n",
       "       -1.59456868e-17, -1.23824466e-17, -1.37599022e-17, -1.58171609e-17,\n",
       "       -2.71222246e-17, -2.37765681e-17, -2.37765681e-17, -2.11956335e-17,\n",
       "       -2.11956335e-17, -3.14443647e-17, -2.98533102e-17, -2.98896141e-17,\n",
       "       -3.03835406e-17, -3.19181604e-17, -2.98708306e-17, -3.23291443e-17,\n",
       "       -3.20401701e-17, -3.65976081e-17, -3.65976081e-17, -3.54952619e-17,\n",
       "       -3.54952619e-17, -3.54952619e-17])"
      ]
     },
     "execution_count": 202,
     "metadata": {},
     "output_type": "execute_result"
    }
   ],
   "source": [
    "data_mean_reversion=np.nan_to_num(fetch_data_constraint(10,100,1,800),0)\n",
    "np.cumprod(data_mean_reversion+1)"
   ]
  },
  {
   "cell_type": "code",
   "execution_count": null,
   "id": "51cb926b-54b5-4580-b9c1-afdc340085cf",
   "metadata": {
    "tags": []
   },
   "outputs": [],
   "source": [
    "t"
   ]
  },
  {
   "cell_type": "code",
   "execution_count": null,
   "id": "c8a4769f-8d17-440e-a316-eb0204f8667e",
   "metadata": {},
   "outputs": [],
   "source": []
  },
  {
   "cell_type": "code",
   "execution_count": null,
   "id": "67018490-54e0-4c2f-8b18-cc189f87d40e",
   "metadata": {},
   "outputs": [],
   "source": []
  }
 ],
 "metadata": {
  "kernelspec": {
   "display_name": "Python 3",
   "language": "python",
   "name": "python3"
  },
  "language_info": {
   "codemirror_mode": {
    "name": "ipython",
    "version": 3
   },
   "file_extension": ".py",
   "mimetype": "text/x-python",
   "name": "python",
   "nbconvert_exporter": "python",
   "pygments_lexer": "ipython3",
   "version": "3.6.9"
  }
 },
 "nbformat": 4,
 "nbformat_minor": 5
}
